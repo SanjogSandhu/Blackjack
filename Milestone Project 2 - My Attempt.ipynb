{
 "cells": [
  {
   "cell_type": "markdown",
   "id": "6963eb34",
   "metadata": {},
   "source": [
    "Alright let's give this a fucking go\n",
    "\n",
    "Took a lil peek and this is what we need to do:\n",
    "\n",
    "Create a deck of 52 cards\n",
    "\n",
    "Shuffle the deck\n",
    "\n",
    "Ask the Player for their bet\n",
    "\n",
    "Make sure that the Player's bet does not exceed their available chips\n",
    "\n",
    "Deal two cards to the Dealer and two cards to the Player\n",
    "\n",
    "Show only one of the Dealer's cards, the other remains hidden\n",
    "\n",
    "Show both of the Player's cards\n",
    "\n",
    "Ask the Player if they wish to Hit, and take another card\n",
    "\n",
    "If the Player's hand doesn't Bust (go over 21), ask if they'd like to Hit again.\n",
    "\n",
    "If a Player Stands, play the Dealer's hand. The dealer will always Hit until the Dealer's value meets or exceeds 17\n",
    "\n",
    "Determine the winner and adjust the Player's chips accordingly\n",
    "\n",
    "Ask the Player if they'd like to play again"
   ]
  },
  {
   "cell_type": "markdown",
   "id": "452408ca",
   "metadata": {},
   "source": [
    "So we need the following classes: Card (link suits/ranks/values etc), Deck (create,shuffle,deal cards), Player (bet input,choices), Dealer (no input? - so we don't need a class). So it's Card, Deck and Player. I was right!"
   ]
  },
  {
   "cell_type": "code",
   "execution_count": 1,
   "id": "c03b4913",
   "metadata": {},
   "outputs": [],
   "source": [
    "# So to start with, we should make the Card class again\n",
    "import random # To shuffle\n",
    "suits = ('Hearts','Spades','Diamonds','Clubs')\n",
    "ranks = ('Two','Three','Four','Five','Six','Seven','Eight','Nine','Ten','Jack','Queen','Ace')\n",
    "values = {'Two':2,'Three':3,'Four':4,'Five':5,'Six':6,'Seven':7,'Eight':8,'Nine':9,'Ten':10,'Jack':10,'Queen':10,'Ace':11}\n",
    "# Now the problem is, is that Aces can be either 1 or 11. I'll set it to 11 for now, and then use some funky logic later\n",
    "\n",
    "class Card:\n",
    "    \n",
    "    def __init__(self,rank,suit):\n",
    "        self.rank = rank\n",
    "        self.suit = suit\n",
    "        \n",
    "    def __str__(self):\n",
    "        return f'{self.rank} of {self.suit}'\n",
    "        \n",
    "# Set a while loop for playing = True. This is common practice, so you can control the flow of the game. Makes more\n",
    "# sense now\n",
    "playing = True"
   ]
  },
  {
   "cell_type": "code",
   "execution_count": 2,
   "id": "d33a2516",
   "metadata": {},
   "outputs": [
    {
     "name": "stdout",
     "output_type": "stream",
     "text": [
      "Eight of Clubs\n"
     ]
    }
   ],
   "source": [
    "# I'm getting this! So we have the generic Card class. Now we want to create an object from this class (instantiation)\n",
    "eight_of_clubs = Card('Eight','Clubs')\n",
    "print(eight_of_clubs)\n",
    "# Cool so this works. Now to create the Deck class. Also I peeked and a Hand class would be useful to calculate the value of the\n",
    "# hand. That's where the values come in. You can also add values in here though"
   ]
  },
  {
   "cell_type": "code",
   "execution_count": 3,
   "id": "8632e232",
   "metadata": {},
   "outputs": [],
   "source": [
    "class Deck:\n",
    "    \n",
    "    def __init__(self):\n",
    "        self.deck = [] # Start with an empty deck\n",
    "        # Create 2 for loops to run through suits and values, and then append the empty deck with each card\n",
    "        # intantiation, by using the Card class! Genius\n",
    "        for suit in suits:\n",
    "            for rank in ranks:\n",
    "                self.deck.append(Card(rank,suit))\n",
    "                \n",
    "    def __str__(self):\n",
    "        # Ah we haven't actually returned anything here\n",
    "        deck_list = '' # Start with empty string\n",
    "        \n",
    "        for card in self.deck:\n",
    "            # + card doesn't work because it needs to be a string\n",
    "            deck_list += '\\n' + str(card) \n",
    "        return deck_list\n",
    "    # FUCKING CUNT! I PUT THE RETURN INDENTED\n",
    "    \n",
    "    \n",
    "    def shuffle(self):\n",
    "        random.shuffle(self.deck)\n",
    "    \n",
    "    def deal(self):\n",
    "        # We want to deal cards to the player, one at a time in Blackjack\n",
    "        # We just want the action of dealing, we don't need to give it to the player yet, just to pop the last card off\n",
    "        # The Player class later can just grab it from here\n",
    "        # I forgot to return this!\n",
    "        return self.deck.pop(-1)"
   ]
  },
  {
   "cell_type": "code",
   "execution_count": 4,
   "id": "4d344235",
   "metadata": {},
   "outputs": [],
   "source": [
    "mydeck = Deck()"
   ]
  },
  {
   "cell_type": "code",
   "execution_count": 5,
   "id": "418d88c6",
   "metadata": {},
   "outputs": [
    {
     "name": "stdout",
     "output_type": "stream",
     "text": [
      "\n",
      "Jack of Clubs\n",
      "Queen of Clubs\n",
      "Three of Hearts\n",
      "Nine of Diamonds\n",
      "Eight of Hearts\n",
      "Two of Diamonds\n",
      "Four of Diamonds\n",
      "Nine of Spades\n",
      "Queen of Spades\n",
      "Two of Hearts\n",
      "Jack of Diamonds\n",
      "Six of Diamonds\n",
      "Ten of Hearts\n",
      "Six of Hearts\n",
      "Ten of Clubs\n",
      "Eight of Diamonds\n",
      "Ten of Spades\n",
      "Five of Clubs\n",
      "Seven of Diamonds\n",
      "Five of Hearts\n",
      "Seven of Clubs\n",
      "Four of Clubs\n",
      "Nine of Hearts\n",
      "Nine of Clubs\n",
      "Two of Clubs\n",
      "Two of Spades\n",
      "Queen of Diamonds\n",
      "Seven of Spades\n",
      "Jack of Spades\n",
      "Four of Hearts\n",
      "Ace of Hearts\n",
      "Five of Diamonds\n",
      "Three of Clubs\n",
      "Six of Clubs\n",
      "Six of Spades\n",
      "Queen of Hearts\n",
      "Jack of Hearts\n",
      "Three of Spades\n",
      "Five of Spades\n",
      "Ace of Clubs\n",
      "Eight of Clubs\n",
      "Ace of Spades\n",
      "Seven of Hearts\n",
      "Four of Spades\n",
      "Ace of Diamonds\n",
      "Three of Diamonds\n",
      "Eight of Spades\n",
      "Ten of Diamonds\n"
     ]
    }
   ],
   "source": [
    "mydeck.shuffle()\n",
    "print(mydeck)\n",
    "# FUCK YEAH, I'M GETTING THIS!! Shuffle is a function so you gotta do ()"
   ]
  },
  {
   "cell_type": "code",
   "execution_count": 6,
   "id": "56a57de8",
   "metadata": {},
   "outputs": [],
   "source": [
    "# Now let's create a Hand class, which calculates the value of the hand\n",
    "\n",
    "class Hand:\n",
    "    \n",
    "    def __init__(self):\n",
    "        self.cards = [] # Empty list to start\n",
    "        self.value = 0\n",
    "        self.aces = 0 # Keep track of the aces so we can adjust\n",
    "    \n",
    "    # We want to be able to add 1 card to the hand at a time, so 'card' is an input\n",
    "    def add_card(self,card):\n",
    "        # Don't think we need to define this self.card = card\n",
    "        # Adding card to the hand\n",
    "        self.cards.append(card)\n",
    "        # We need to keep track of value of hand. Remember, values is a global list\n",
    "        # Yeah so we pull this from the dictionary ( dic[i], in this case values is the dictionary, and card\n",
    "        # would be something like Ace of Clubs, so we JUST want the RANK of the card... which we already defined in\n",
    "        # the Card class as .rank!!!!\n",
    "        self.value += values[card.rank]\n",
    "        \n",
    "        # AHH SO WE ADD THE IF STATEMENT FOR ACES HERE!\n",
    "        if card.rank == 'Ace':\n",
    "            self.aces += 1\n",
    "    def ace_adjust(self):\n",
    "        # Before doing this, let's test the rest of the code. Ok it works\n",
    "            # Basically if the cards add up to more than 21, we want the Ace to be a 1, not an 11, so we effectively\n",
    "            # subtract 10. Wonder if it's better to actually change the value of the Ace though?\n",
    "            # I was close!! - 10 is right. But we should use a while loop, and we need to have self.aces\n",
    "            # Basically we're treating self.aces as a Boolean value. 0 = FALSE, 1,2...etc = TRUE\n",
    "        while self.value > 21 and self.aces: # (== True)\n",
    "            self.value -= 10\n",
    "            self.aces -= 1 # Resets to zero"
   ]
  },
  {
   "cell_type": "code",
   "execution_count": 7,
   "id": "e737bf74",
   "metadata": {},
   "outputs": [
    {
     "name": "stdout",
     "output_type": "stream",
     "text": [
      "18\n",
      "Six of Spades\n",
      "Two of Hearts\n",
      "Jack of Spades\n"
     ]
    }
   ],
   "source": [
    "testdeck = Deck()\n",
    "testdeck.shuffle()\n",
    "testplayer = Hand()\n",
    "testplayer.add_card(testdeck.deal())\n",
    "testplayer.add_card(testdeck.deal()) # I'm getting this!! Need to add 2 cards for Blackjack\n",
    "testplayer.add_card(testdeck.deal()) # Just testing a third card to test the ace adjust function\n",
    "testplayer.ace_adjust() # Rememebr the () because it's a function\n",
    "\n",
    "print(testplayer.value)\n",
    "# Omg it works\n",
    "# I want to see what the cards are. Wow this is actually sick\n",
    "for card in testplayer.cards:\n",
    "    print(card)\n",
    "    \n",
    "# IT FUCKING WORKED!!!!!!!!!"
   ]
  },
  {
   "cell_type": "code",
   "execution_count": 8,
   "id": "7257a74d",
   "metadata": {},
   "outputs": [],
   "source": [
    "# let's create a Chips class to store chips and count/add/remove (i.e. win and lose bet)\n",
    "\n",
    "class Chips:\n",
    "\n",
    "    def __init__(self,total=100):\n",
    "        self.total = total # Use 100 as default value. I prefer this way\n",
    "        self.bet = 0\n",
    "    \n",
    "    def win_bet(self):\n",
    "        self.total += self.bet\n",
    "    \n",
    "    def lose_bet(self):\n",
    "        self.total -= self.bet"
   ]
  },
  {
   "cell_type": "markdown",
   "id": "2c5edfc2",
   "metadata": {},
   "source": [
    "Step 6: Write a function for taking bets\n",
    "Since we're asking the user for an integer value, this would be a good place to use try/except. Remember to check that a Player's bet can be covered by their available chips."
   ]
  },
  {
   "cell_type": "code",
   "execution_count": 9,
   "id": "92f0688f",
   "metadata": {},
   "outputs": [],
   "source": [
    "def take_bet(chips):\n",
    "    # While True are just infinite loops that run until break or return\n",
    "    while True:\n",
    "        try:\n",
    "            chips.bet = int(input(\"Please make a bet (£)\"))\n",
    "        except ValueError:\n",
    "            print(\"Please use an integer value\")\n",
    "        else:\n",
    "            # Notice we can use .bet and .total from our Chips class...\n",
    "            if chips.bet > chips.total:\n",
    "                print(f\"Sorry your bet can't exceed your total ({chips.total})\")\n",
    "            else:\n",
    "                break\n",
    "            \n",
    "# Oh my god it fucking worked?!"
   ]
  },
  {
   "cell_type": "markdown",
   "id": "0ee925a8",
   "metadata": {},
   "source": [
    "Step 7: Write a function for taking hits\n",
    "Either player can take hits until they bust. This function will be called during gameplay anytime a Player requests a hit, or a Dealer's hand is less than 17. It should take in Deck and Hand objects as arguments, and deal one card off the deck and add it to the Hand. You may want it to check for aces in the event that a player's hand exceeds 21."
   ]
  },
  {
   "cell_type": "code",
   "execution_count": 10,
   "id": "4118352d",
   "metadata": {},
   "outputs": [],
   "source": [
    "def take_hit(deck,hand):\n",
    "    # We want to add the last card from the deck to the hand. We've already defined Class functions for this\n",
    "    hand.add_card(deck.deal())\n",
    "    hand.ace_adjust()    "
   ]
  },
  {
   "cell_type": "markdown",
   "id": "517b0cdd",
   "metadata": {},
   "source": [
    "Step 8: Write a function prompting the Player to Hit or Stand\n",
    "This function should accept the deck and the player's hand as arguments, and assign playing as a global variable.\n",
    "If the Player Hits, employ the hit() function above. If the Player Stands, set the playing variable to False - this will control the behavior of a while loop later on in our code."
   ]
  },
  {
   "cell_type": "code",
   "execution_count": 11,
   "id": "c4b610a7",
   "metadata": {},
   "outputs": [],
   "source": [
    "def hit_or_stand(deck,hand):\n",
    "    # Global variable to control an upcoming while loop\n",
    "    global playing\n",
    "    playing = True\n",
    "    while True:\n",
    "        player_input = input(\"Hit or Stand?\").lower()\n",
    "        # Imma be fancy and lowercase the input so that it doesn't matter if they use caps or not\n",
    "        if player_input == 'Hit'.lower():\n",
    "            take_hit(deck,hand)\n",
    "            break\n",
    "        elif player_input == 'Stand'.lower():\n",
    "            playing = False\n",
    "            break\n",
    "        else:\n",
    "            print(\"Please choose a valid option (Hit or Stand)\")\n",
    "            \n",
    "# I'm getting the hang of this!!!"
   ]
  },
  {
   "cell_type": "code",
   "execution_count": 12,
   "id": "2ce65ce9",
   "metadata": {},
   "outputs": [],
   "source": [
    "# They did it EXACTLY the same, except I didn't think that typing 'hit' or 'stand' might be long, so we can just use\n",
    "# 'h' or 's'. So even if they type it out, we only need to look at the first letter!!\n",
    "def hit_or_stand(deck,hand):\n",
    "    # Global variable to control an upcoming while loop\n",
    "    global playing\n",
    "    \n",
    "    while True:\n",
    "        player_input = input(\"Hit or Stand? (You can type 'h' or 's' if lazy x)\")\n",
    "        # Imma be fancy and lowercase the input so that it doesn't matter if they use caps or not\n",
    "        if player_input[0].lower() == 'h':\n",
    "            take_hit(deck,hand)\n",
    "        elif player_input[0].lower() == 's':\n",
    "            print(\"Player stands. Dealer is playing\")\n",
    "            playing = False\n",
    "        else:\n",
    "            print(\"Please choose a valid option (Hit or Stand)\")\n",
    "            continue # I forgot this\n",
    "        break # I put 2 breaks on if and elif, but not here...\n",
    "            \n",
    "# I'm getting the hang of this!!!\n"
   ]
  },
  {
   "cell_type": "code",
   "execution_count": 13,
   "id": "01c534a5",
   "metadata": {},
   "outputs": [
    {
     "name": "stdout",
     "output_type": "stream",
     "text": [
      "Hit or Stand? (You can type 'h' or 's' if lazy x)h\n"
     ]
    }
   ],
   "source": [
    "hit_or_stand(testdeck,testplayer)"
   ]
  },
  {
   "cell_type": "markdown",
   "id": "d1381b82",
   "metadata": {},
   "source": [
    "Step 9: Write functions to display cards\n",
    "When the game starts, and after each time Player takes a card, the dealer's first card is hidden and all of Player's cards are visible. At the end of the hand all cards are shown, and you may want to show each hand's total value. Write a function for each of these scenarios."
   ]
  },
  {
   "cell_type": "code",
   "execution_count": 14,
   "id": "97116162",
   "metadata": {},
   "outputs": [],
   "source": [
    "def show_some(player,dealer):\n",
    "    # Show all of player's cards. This comes from the Hand class. self.cards is the cards in their hand :)\n",
    "    # Note that ASTERISK * prints everything in a collection. Useful to know\n",
    "     # Hide dealer's first card\n",
    "    print(\"\\nDealer is playing\")    \n",
    "    print(\"\\nDealer's first card is hidden\")\n",
    "    print(\" <Hidden Card>\")\n",
    "    print('',dealer.cards[1])\n",
    "    print(\"\\nPlayer's Hand:\", *player.cards, sep='\\n ') # sep puts each one on a new line\n",
    "    \n",
    "def show_all(player,dealer):\n",
    "    print(\"\\nDealer's Hand:\", *dealer.cards, sep='\\n ')\n",
    "    print(\"Dealer's Hand =\",dealer.value)\n",
    "    print(\"\\nPlayer's Hand:\", *player.cards, sep='\\n ')\n",
    "    print(\"Player's Hand =\",player.value)\n",
    "    "
   ]
  },
  {
   "cell_type": "code",
   "execution_count": 15,
   "id": "f8fd2397",
   "metadata": {},
   "outputs": [
    {
     "name": "stdout",
     "output_type": "stream",
     "text": [
      "\n",
      "Dealer is playing\n",
      "\n",
      "Dealer's first card is hidden\n",
      " <Hidden Card>\n",
      " Two of Hearts\n",
      "\n",
      "Player's Hand:\n",
      " Six of Spades\n",
      " Two of Hearts\n",
      " Jack of Spades\n",
      " Jack of Diamonds\n"
     ]
    }
   ],
   "source": [
    "show_some(testplayer,testplayer)"
   ]
  },
  {
   "cell_type": "code",
   "execution_count": 16,
   "id": "13a01223",
   "metadata": {},
   "outputs": [
    {
     "name": "stdout",
     "output_type": "stream",
     "text": [
      "\n",
      "Dealer is playing\n",
      "\n",
      "Dealer's first card is hidden\n",
      " <Hidden Card>\n",
      " Two of Hearts\n",
      "\n",
      "Player's Hand:\n",
      " Six of Spades\n",
      " Two of Hearts\n",
      " Jack of Spades\n",
      " Jack of Diamonds\n"
     ]
    }
   ],
   "source": [
    "show_some(testplayer,testplayer)"
   ]
  },
  {
   "cell_type": "code",
   "execution_count": 17,
   "id": "35d12b80",
   "metadata": {},
   "outputs": [
    {
     "name": "stdout",
     "output_type": "stream",
     "text": [
      "\n",
      "Dealer's Hand:\n",
      " Six of Spades\n",
      " Two of Hearts\n",
      " Jack of Spades\n",
      " Jack of Diamonds\n",
      "Dealer's Hand = 28\n",
      "\n",
      "Player's Hand:\n",
      " Six of Spades\n",
      " Two of Hearts\n",
      " Jack of Spades\n",
      " Jack of Diamonds\n",
      "Player's Hand = 28\n"
     ]
    }
   ],
   "source": [
    "show_all(testplayer,testplayer)"
   ]
  },
  {
   "cell_type": "markdown",
   "id": "dabe9635",
   "metadata": {},
   "source": [
    "Step 10: Write functions to handle end of game scenarios\n",
    "Remember to pass player's hand, dealer's hand and chips as needed."
   ]
  },
  {
   "cell_type": "code",
   "execution_count": 18,
   "id": "99c3d425",
   "metadata": {},
   "outputs": [],
   "source": [
    "# Remember to add chips to their total, subtract from dealer etc. Where do the chips go though? \n",
    "\n",
    "def player_win(player,dealer,chips):\n",
    "    if player.value == 21:\n",
    "        chips.win_bet() # Win bet function from the Chips clsas. chips come from that class\n",
    "        print(\"Player wins! :)\")\n",
    "\n",
    "def player_bust(player,dealer,chips):\n",
    "    if player.value > 21:\n",
    "        chips.lose_bet()\n",
    "        print(\"Player busts! :(\")\n",
    "        \n",
    "def dealer_win(player,dealer,chips):\n",
    "    if dealer.value == 21:\n",
    "        chips.win_bet()\n",
    "        print(\"Dealer wins! :(\")\n",
    "    \n",
    "def dealer_bust(player,dealer,chips):\n",
    "    if player.value > 21:\n",
    "        chips.lose_bet()\n",
    "        print(\"Player busts! :)\")\n",
    "    \n",
    "def tie(player,dealer,chips):\n",
    "    print(\"Dealer and Player tie!\")"
   ]
  },
  {
   "cell_type": "markdown",
   "id": "f29d0b1c",
   "metadata": {},
   "source": [
    "ON TO THE GAME"
   ]
  },
  {
   "cell_type": "code",
   "execution_count": 19,
   "id": "252bc9d5",
   "metadata": {},
   "outputs": [
    {
     "name": "stdout",
     "output_type": "stream",
     "text": [
      "Welcome to BlackJack! The aim of the game is to make 21. Each numbered card is face value. Jacks, Queens and Kings are worth 10, and Aces are worth 1 or 11\n",
      "Choose total chips value (£)100\n",
      "Please make a bet (£)20\n",
      "\n",
      "Dealer is playing\n",
      "\n",
      "Dealer's first card is hidden\n",
      " <Hidden Card>\n",
      " Four of Hearts\n",
      "\n",
      "Player's Hand:\n",
      " Seven of Clubs\n",
      " Three of Diamonds\n",
      "Hit or Stand? (You can type 'h' or 's' if lazy x)h\n",
      "\n",
      "Dealer is playing\n",
      "\n",
      "Dealer's first card is hidden\n",
      " <Hidden Card>\n",
      " Four of Hearts\n",
      "\n",
      "Player's Hand:\n",
      " Seven of Clubs\n",
      " Three of Diamonds\n",
      " Three of Spades\n",
      "Hit or Stand? (You can type 'h' or 's' if lazy x)s\n",
      "Player stands. Dealer is playing\n",
      "\n",
      "Dealer is playing\n",
      "\n",
      "Dealer's first card is hidden\n",
      " <Hidden Card>\n",
      " Four of Hearts\n",
      "\n",
      "Player's Hand:\n",
      " Seven of Clubs\n",
      " Three of Diamonds\n",
      " Three of Spades\n",
      "\n",
      "Dealer's Hand:\n",
      " Eight of Diamonds\n",
      " Four of Hearts\n",
      " Eight of Spades\n",
      "Dealer's Hand = 20\n",
      "\n",
      "Player's Hand:\n",
      " Seven of Clubs\n",
      " Three of Diamonds\n",
      " Three of Spades\n",
      "Player's Hand = 13\n",
      "Your winnings stand at: £100\n",
      "Would you like to play another hand? Enter 'y' or 'n' n\n",
      "Thanks for playing!\n"
     ]
    }
   ],
   "source": [
    "while True:\n",
    "    # Print an opening statement\n",
    "    print(\"Welcome to BlackJack! The aim of the game is to make 21. Each numbered card is face value. Jacks, Queens and Kings are worth 10, and Aces are worth 1 or 11\")\n",
    "    \n",
    "    # Create & shuffle the deck, deal two cards to each player\n",
    "    deck = Deck()\n",
    "    deck.shuffle()\n",
    "    player_cards = ' '\n",
    "    dealer_cards = ' '\n",
    "    # player_cards = str(deck.deal()) + '\\n' + str(deck.deal()) # Had to use str here. UPDATE: This fucked it up\n",
    "    # Ahh I did this slightly wrong!\n",
    "    player_hand = Hand()\n",
    "    player_hand.add_card(deck.deal())\n",
    "    player_hand.add_card(deck.deal())\n",
    "    \n",
    "    dealer_hand = Hand()\n",
    "    dealer_hand.add_card(deck.deal())\n",
    "    dealer_hand.add_card(deck.deal())\n",
    "                    \n",
    "    # Set up the Player's chips\n",
    "    while True: \n",
    "        try:\n",
    "            player_chips = Chips(int(input(\"Choose total chips value (£)\"))) # total is variable, default is £100\n",
    "            break\n",
    "        except:\n",
    "            print(\"Please input an integer value\")\n",
    "            \n",
    "        # print(player_chips.total) - To check! I'm getting this Class thing now!\n",
    "    \n",
    "    # Prompt the Player for their bet\n",
    "    take_bet(player_chips)\n",
    "\n",
    "    # Show cards (but keep one dealer card hidden)\n",
    "    show_some(player_hand,dealer_hand)\n",
    " \n",
    "    while playing:  # recall this variable from our hit_or_stand function\n",
    "        \n",
    "        # Prompt for Player to Hit or Stand\n",
    "        hit_or_stand(deck,player_hand)\n",
    "        \n",
    "        # Show cards (but keep one dealer card hidden)\n",
    "        show_some(player_hand,dealer_hand)\n",
    "        \n",
    "        # If player's hand exceeds 21, run player_busts() and break out of loop\n",
    "        if player_hand.value > 21:\n",
    "            player_bust(player_hand,dealer_hand,player_chips)\n",
    "            break\n",
    "\n",
    "    # If Player hasn't busted, play Dealer's hand until Dealer reaches 17\n",
    "    # After adding this line, it's not prompting me anymore\n",
    "    if player_hand.value <= 21:\n",
    "        while dealer_hand.value < 17:\n",
    "            take_hit(deck,dealer_hand)\n",
    "        \n",
    "        # Show all cards\n",
    "        show_all(player_hand,dealer_hand)\n",
    "    \n",
    "        # Run different winning scenarios\n",
    "        if dealer_hand.value > 21:\n",
    "            dealer_bust(player_hand,dealer_hand,player_chips)\n",
    "\n",
    "        elif dealer_hand.value > player_hand.value:\n",
    "            dealer_win(player_hand,dealer_hand,player_chips)\n",
    "\n",
    "        elif dealer_hand.value < player_hand.value:\n",
    "            player_win(player_hand,dealer_hand,player_chips)\n",
    "\n",
    "        else:\n",
    "            tie(player_hand,dealer_hand)\n",
    "        \n",
    "    # Inform Player of their chips total \n",
    "    print(f\"Your winnings stand at: £{player_chips.total}\")\n",
    "    \n",
    "    # Ask to play again\n",
    "    new_game = input(\"Would you like to play another hand? Enter 'y' or 'n' \")\n",
    "    \n",
    "    if new_game[0].lower()=='y':\n",
    "        playing=True\n",
    "        continue\n",
    "    else:\n",
    "        print(\"Thanks for playing!\")\n",
    "        break\n",
    "        \n",
    "# I'M SO FUCKING CLOSE. NEED TO TAKE A BREAK AND COME BACK TO IT! SOMETHING IS JUST SLIGHTLY OFF\n",
    "# IT WAS WORKING BEFORE BUT WHEN I COPIED AND PASTED IT FUCKED UP. IT'S NOT ASKING FOR HIT/STAND ANYMORE FOR SOME REASON\n",
    "# MUST BE SOMETHING TO DO WITH THE IF STATEMENTS"
   ]
  },
  {
   "cell_type": "code",
   "execution_count": 20,
   "id": "74904c22",
   "metadata": {},
   "outputs": [
    {
     "data": {
      "text/plain": [
       "13"
      ]
     },
     "execution_count": 20,
     "metadata": {},
     "output_type": "execute_result"
    }
   ],
   "source": [
    "player_hand.value"
   ]
  },
  {
   "cell_type": "code",
   "execution_count": 21,
   "id": "3fbce231",
   "metadata": {},
   "outputs": [
    {
     "ename": "IndentationError",
     "evalue": "unexpected indent (Temp/ipykernel_20144/1255536433.py, line 2)",
     "output_type": "error",
     "traceback": [
      "\u001b[1;36m  File \u001b[1;32m\"C:\\Users\\user\\AppData\\Local\\Temp/ipykernel_20144/1255536433.py\"\u001b[1;36m, line \u001b[1;32m2\u001b[0m\n\u001b[1;33m    if player_hand.value <= 21:\u001b[0m\n\u001b[1;37m    ^\u001b[0m\n\u001b[1;31mIndentationError\u001b[0m\u001b[1;31m:\u001b[0m unexpected indent\n"
     ]
    }
   ],
   "source": [
    " # If Player hasn't busted, play Dealer's hand until Dealer reaches 17\n",
    "    if player_hand.value <= 21:\n",
    "        while dealer_hand.value < 17:\n",
    "            take_hit(deck,dealer_hand)\n",
    "\n",
    "        # Show all cards\n",
    "        show_all(player_hand,dealer_hand)\n",
    "    \n",
    "        # Run different winning scenarios\n",
    "        if dealer_hand.value > 21:\n",
    "            dealer_bust(player_hand,dealer_hand,player_chips)\n",
    "\n",
    "        elif dealer_hand.value > player_hand.value:\n",
    "            dealer_win(player_hand,dealer_hand,player_chips)\n",
    "\n",
    "        elif dealer_hand.value < player_hand.value:\n",
    "            player_win(player_hand,dealer_hand,player_chips)\n",
    "\n",
    "        else:\n",
    "            tie(player_hand,dealer_hand)    \n",
    "        \n",
    "    # Inform Player of their chips total \n",
    "    print(f\"Your winnings stand at: £{player_chips.total}\")\n",
    "    \n",
    "    # Ask to play again\n",
    "    new_game = input(\"Would you like to play another hand? Enter 'y' or 'n' \")\n",
    "    \n",
    "    if new_game[0].lower()=='y':\n",
    "        playing=True\n",
    "        continue\n",
    "    else:\n",
    "        print(\"Thanks for playing!\")"
   ]
  }
 ],
 "metadata": {
  "kernelspec": {
   "display_name": "Python 3 (ipykernel)",
   "language": "python",
   "name": "python3"
  },
  "language_info": {
   "codemirror_mode": {
    "name": "ipython",
    "version": 3
   },
   "file_extension": ".py",
   "mimetype": "text/x-python",
   "name": "python",
   "nbconvert_exporter": "python",
   "pygments_lexer": "ipython3",
   "version": "3.9.7"
  }
 },
 "nbformat": 4,
 "nbformat_minor": 5
}
